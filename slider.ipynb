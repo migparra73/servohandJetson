{
 "cells": [
  {
   "cell_type": "code",
   "execution_count": null,
   "metadata": {},
   "outputs": [],
   "source": [
    "from smbus2 import SMBus\n",
    "import busio\n",
    "import board\n",
    "import time\n",
    "from adafruit_servokit import ServoKit"
   ]
  },
  {
   "cell_type": "code",
   "execution_count": null,
   "metadata": {},
   "outputs": [],
   "source": [
    "bus = SMBus(1)"
   ]
  },
  {
   "cell_type": "code",
   "execution_count": null,
   "metadata": {},
   "outputs": [],
   "source": [
    "bus.read_byte_data(0x40, 1)\n",
    "l16-140-35-6-R"
   ]
  },
  {
   "cell_type": "code",
   "execution_count": null,
   "metadata": {},
   "outputs": [],
   "source": [
    "# On the Jetson Nano\n",
    "# Bus 0 (pins 28,27) is board SCL_1, SDA_1 in the jetson board definition file\n",
    "# Bus 1 (pins 5, 3) is board SCL, SDA in the jetson definition file\n",
    "# Default is to Bus 1; We are using Bus 0, so we need to construct the busio first ...\n",
    "print(\"Initializing Servos\")\n",
    "i2c_bus1=(busio.I2C(board.SCL, board.SDA))\n",
    "print(\"Initializing ServoKit\")\n",
    "kit = ServoKit(channels=16, i2c=i2c_bus1)\n",
    "\n"
   ]
  },
  {
   "cell_type": "code",
   "execution_count": null,
   "metadata": {},
   "outputs": [],
   "source": [
    "kit.servo[0].set_pulse_width_range(1000, 2000)"
   ]
  },
  {
   "cell_type": "code",
   "execution_count": null,
   "metadata": {},
   "outputs": [],
   "source": [
    "kit.servo[0].fraction = 1.0"
   ]
  }
 ],
 "metadata": {
  "kernelspec": {
   "display_name": "servoHand",
   "language": "python",
   "name": "python3"
  },
  "language_info": {
   "codemirror_mode": {
    "name": "ipython",
    "version": 3
   },
   "file_extension": ".py",
   "mimetype": "text/x-python",
   "name": "python",
   "nbconvert_exporter": "python",
   "pygments_lexer": "ipython3",
   "version": "3.8.17"
  },
  "orig_nbformat": 4
 },
 "nbformat": 4,
 "nbformat_minor": 2
}
