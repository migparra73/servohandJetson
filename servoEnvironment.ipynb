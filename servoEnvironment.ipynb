{
 "cells": [
  {
   "cell_type": "code",
   "execution_count": null,
   "metadata": {},
   "outputs": [],
   "source": [
    "import gymnasium as gym\n",
    "import servo\n",
    "import numpy as np\n",
    "import matplotlib.pyplot as plt\n",
    "import time\n",
    "import customGym\n",
    "\n",
    "# Create the environment\n",
    "servoCtrl = servo.Servo()\n",
    "#env = customGym.PhysicalServoHand()"
   ]
  }
 ],
 "metadata": {
  "kernelspec": {
   "display_name": "ppo3",
   "language": "python",
   "name": "python3"
  },
  "language_info": {
   "name": "python",
   "version": "3.11.0"
  },
  "orig_nbformat": 4
 },
 "nbformat": 4,
 "nbformat_minor": 2
}
