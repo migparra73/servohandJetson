{
 "cells": [
  {
   "cell_type": "code",
   "execution_count": 1,
   "metadata": {},
   "outputs": [
    {
     "name": "stdout",
     "output_type": "stream",
     "text": [
      "Succeeded to open the port\n",
      "Succeeded to change the baudrate\n",
      "Initializing Servos\n",
      "Initializing ServoKit\n",
      "Slider initialized.\n",
      "Dynamixel has been successfully connected\n",
      "Dynamixel has been successfully connected\n",
      "Dynamixel has been successfully connected\n",
      "Dynamixel has been successfully connected\n",
      "Dynamixel has been successfully connected\n",
      "Dynamixel has been successfully connected\n"
     ]
    }
   ],
   "source": [
    "import gymnasium as gym\n",
    "import servo\n",
    "import numpy as np\n",
    "import matplotlib.pyplot as plt\n",
    "import time\n",
    "import customGym\n",
    "\n",
    "# Create the environment\n",
    "servoCtrl = servo.Servo()\n",
    "myEnv = customGym.PhysicalServoHand(servoDriver=servoCtrl)\n",
    "servoCtrl.currentServoAngle = [1023] * 6\n",
    "for x in range(1,7):\n",
    "    servoCtrl.enableServo(x)"
   ]
  },
  {
   "cell_type": "code",
   "execution_count": 4,
   "metadata": {},
   "outputs": [
    {
     "name": "stdout",
     "output_type": "stream",
     "text": [
      "Successfully rebooted\n",
      "Successfully rebooted\n",
      "Successfully rebooted\n",
      "Successfully rebooted\n",
      "Successfully rebooted\n",
      "Successfully rebooted\n"
     ]
    }
   ],
   "source": [
    "for x in range(1, 7):\n",
    "    servoCtrl.rebootServo(x)"
   ]
  },
  {
   "cell_type": "code",
   "execution_count": null,
   "metadata": {},
   "outputs": [],
   "source": [
    "servoCtrl.setServoAngleMultiple([1,2,3,4,5,6], [900, 900, 900, 900, 900, 900])\n",
    "servoCtrl.currentServoAngle = [900, 900, 900, 900, 900, 900]"
   ]
  },
  {
   "cell_type": "code",
   "execution_count": null,
   "metadata": {},
   "outputs": [],
   "source": [
    "while True:\n",
    "    action = myEnv.action_space.sample()\n",
    "    myEnv.step(action)"
   ]
  }
 ],
 "metadata": {
  "kernelspec": {
   "display_name": "ppo3",
   "language": "python",
   "name": "python3"
  },
  "language_info": {
   "codemirror_mode": {
    "name": "ipython",
    "version": 3
   },
   "file_extension": ".py",
   "mimetype": "text/x-python",
   "name": "python",
   "nbconvert_exporter": "python",
   "pygments_lexer": "ipython3",
   "version": "3.11.5"
  },
  "orig_nbformat": 4
 },
 "nbformat": 4,
 "nbformat_minor": 2
}
