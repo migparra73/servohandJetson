{
 "cells": [
  {
   "cell_type": "code",
   "execution_count": 135,
   "metadata": {},
   "outputs": [],
   "source": [
    "import servo\n",
    "import time"
   ]
  },
  {
   "cell_type": "code",
   "execution_count": 136,
   "metadata": {},
   "outputs": [
    {
     "name": "stdout",
     "output_type": "stream",
     "text": [
      "Succeeded to open the port\n",
      "Succeeded to change the baudrate\n"
     ]
    }
   ],
   "source": [
    "test = servo.Servo()"
   ]
  },
  {
   "cell_type": "code",
   "execution_count": 205,
   "metadata": {},
   "outputs": [
    {
     "name": "stdout",
     "output_type": "stream",
     "text": [
      "Dynamixel has been successfully connected\n",
      "Dynamixel has been successfully connected\n",
      "Dynamixel has been successfully connected\n",
      "Dynamixel has been successfully connected\n",
      "Dynamixel has been successfully connected\n",
      "Dynamixel has been successfully connected\n"
     ]
    }
   ],
   "source": [
    "for x in range(1, 7):\n",
    "    test.enableServo(x)"
   ]
  },
  {
   "cell_type": "markdown",
   "metadata": {},
   "source": [
    "Test each Servo to find its range of motion"
   ]
  },
  {
   "cell_type": "code",
   "execution_count": 211,
   "metadata": {},
   "outputs": [
    {
     "ename": "AssertionError",
     "evalue": "",
     "output_type": "error",
     "traceback": [
      "\u001b[0;31m---------------------------------------------------------------------------\u001b[0m",
      "\u001b[0;31mAssertionError\u001b[0m                            Traceback (most recent call last)",
      "Cell \u001b[0;32mIn[211], line 2\u001b[0m\n\u001b[1;32m      1\u001b[0m \u001b[39mwhile\u001b[39;00m \u001b[39mTrue\u001b[39;00m:\n\u001b[0;32m----> 2\u001b[0m     test\u001b[39m.\u001b[39;49msetServoAngleMultiple([\u001b[39m1\u001b[39;49m, \u001b[39m4\u001b[39;49m, \u001b[39m6\u001b[39;49m], [\u001b[39m0\u001b[39;49m, \u001b[39m0\u001b[39;49m, \u001b[39m0\u001b[39;49m, \u001b[39m0\u001b[39;49m])\n\u001b[1;32m      3\u001b[0m     time\u001b[39m.\u001b[39msleep(\u001b[39m2\u001b[39m)\n\u001b[1;32m      4\u001b[0m     test\u001b[39m.\u001b[39msetServoAngleMultiple([\u001b[39m1\u001b[39m, \u001b[39m4\u001b[39m, \u001b[39m6\u001b[39m], [\u001b[39m1023\u001b[39m, \u001b[39m1023\u001b[39m, \u001b[39m1023\u001b[39m, \u001b[39m1023\u001b[39m])\n",
      "File \u001b[0;32m~/code/servohandJetson/servo.py:125\u001b[0m, in \u001b[0;36mServo.setServoAngleMultiple\u001b[0;34m(self, servoIds, angles)\u001b[0m\n\u001b[1;32m    124\u001b[0m \u001b[39mdef\u001b[39;00m \u001b[39msetServoAngleMultiple\u001b[39m(\u001b[39mself\u001b[39m, servoIds, angles):\n\u001b[0;32m--> 125\u001b[0m     \u001b[39massert\u001b[39;00m(\u001b[39mlen\u001b[39m(servoIds) \u001b[39m==\u001b[39m \u001b[39mlen\u001b[39m(angles))\n\u001b[1;32m    126\u001b[0m     \u001b[39mfor\u001b[39;00m idx, servoId \u001b[39min\u001b[39;00m \u001b[39menumerate\u001b[39m(servoIds):\n\u001b[1;32m    127\u001b[0m         dxl_addparam_result \u001b[39m=\u001b[39m \u001b[39mself\u001b[39m\u001b[39m.\u001b[39mgroupSyncWritePosition\u001b[39m.\u001b[39maddParam(servoId, [Dynamixel\u001b[39m.\u001b[39mDXL_LOBYTE(Dynamixel\u001b[39m.\u001b[39mDXL_LOWORD(angles[idx])), Dynamixel\u001b[39m.\u001b[39mDXL_HIBYTE(Dynamixel\u001b[39m.\u001b[39mDXL_LOWORD(angles[idx])), \\\n\u001b[1;32m    128\u001b[0m                                                                              Dynamixel\u001b[39m.\u001b[39mDXL_LOBYTE(Dynamixel\u001b[39m.\u001b[39mDXL_HIWORD(angles[idx])), Dynamixel\u001b[39m.\u001b[39mDXL_HIBYTE(Dynamixel\u001b[39m.\u001b[39mDXL_HIWORD(angles[idx]))])\n",
      "\u001b[0;31mAssertionError\u001b[0m: "
     ]
    }
   ],
   "source": [
    "while True:\n",
    "    test.setServoAngleMultiple([1, 4, 6], [0, 0, 0])\n",
    "    time.sleep(2)\n",
    "    test.setServoAngleMultiple([1, 4, 6], [1023, 1023, 1023])\n",
    "    time.sleep(2)\n",
    "    test.setServoAngleMultiple([2, 3, 5], [0, 0, 0])\n",
    "    time.sleep(2)\n",
    "    test.setServoAngleMultiple([2, 3, 5], [1023, 1023, 1023])\n",
    "    time.sleep(2)"
   ]
  },
  {
   "cell_type": "code",
   "execution_count": 207,
   "metadata": {},
   "outputs": [
    {
     "name": "stdout",
     "output_type": "stream",
     "text": [
      "Position successfully sent\n",
      "Position successfully sent\n"
     ]
    }
   ],
   "source": [
    "test.setServoAngle(6, 0)\n",
    "time.sleep(2)\n",
    "test.setServoAngle(6, 1023)\n",
    "time.sleep(2)"
   ]
  },
  {
   "cell_type": "code",
   "execution_count": 199,
   "metadata": {},
   "outputs": [
    {
     "data": {
      "text/plain": [
       "True"
      ]
     },
     "execution_count": 199,
     "metadata": {},
     "output_type": "execute_result"
    }
   ],
   "source": [
    "test.setServoVelocityMultiple([1,2,3,4,5,6], [30]*6)"
   ]
  },
  {
   "cell_type": "code",
   "execution_count": 210,
   "metadata": {},
   "outputs": [
    {
     "name": "stdout",
     "output_type": "stream",
     "text": [
      "Successfully rebooted\n",
      "Successfully rebooted\n",
      "Successfully rebooted\n",
      "Successfully rebooted\n",
      "Successfully rebooted\n",
      "Successfully rebooted\n"
     ]
    }
   ],
   "source": [
    "for x in range(1, 7):\n",
    "    test.rebootServo(x)"
   ]
  },
  {
   "cell_type": "code",
   "execution_count": null,
   "metadata": {},
   "outputs": [],
   "source": [
    "test.setServoAngleMultiple([1,2,3], [1023, 0, 800])"
   ]
  },
  {
   "cell_type": "code",
   "execution_count": null,
   "metadata": {},
   "outputs": [],
   "source": [
    "test.getServoAngleMultiple([1,2,3])"
   ]
  },
  {
   "cell_type": "code",
   "execution_count": null,
   "metadata": {},
   "outputs": [],
   "source": [
    "while True:\n",
    "    test.setServoAngle(4,1000)\n",
    "    time.sleep(2)\n",
    "    test.setServoAngle(4,0)\n",
    "    time.sleep(2)"
   ]
  },
  {
   "cell_type": "code",
   "execution_count": null,
   "metadata": {},
   "outputs": [],
   "source": [
    "test.setServoAngle(3,300)"
   ]
  },
  {
   "cell_type": "code",
   "execution_count": null,
   "metadata": {},
   "outputs": [],
   "source": [
    "test.getErrorStatus(3)"
   ]
  },
  {
   "cell_type": "code",
   "execution_count": null,
   "metadata": {},
   "outputs": [],
   "source": [
    "test.setProfileVelocity(4, 100)\n",
    "#test.getProfileVelocity(4)"
   ]
  },
  {
   "cell_type": "code",
   "execution_count": null,
   "metadata": {},
   "outputs": [],
   "source": [
    "test.disableServo(4)"
   ]
  },
  {
   "cell_type": "code",
   "execution_count": null,
   "metadata": {},
   "outputs": [],
   "source": [
    "test.setDriveMode(3) #Default setting is velocity profile."
   ]
  },
  {
   "cell_type": "code",
   "execution_count": null,
   "metadata": {},
   "outputs": [],
   "source": [
    "test.rebootServo(3)"
   ]
  },
  {
   "cell_type": "code",
   "execution_count": 4,
   "metadata": {},
   "outputs": [
    {
     "name": "stdout",
     "output_type": "stream",
     "text": [
      "Dynamixel has been successfully connected\n",
      "Dynamixel has been successfully connected\n",
      "Dynamixel has been successfully connected\n",
      "Dynamixel has been successfully connected\n",
      "Dynamixel has been successfully connected\n",
      "Dynamixel has been successfully connected\n"
     ]
    }
   ],
   "source": [
    "for x in range(1, 7):\n",
    " test.disableServo(x)\n"
   ]
  },
  {
   "cell_type": "code",
   "execution_count": null,
   "metadata": {},
   "outputs": [],
   "source": [
    "for x in range(1, 7):\n",
    " test.factoryReset(x)\n"
   ]
  }
 ],
 "metadata": {
  "kernelspec": {
   "display_name": "servoHand",
   "language": "python",
   "name": "python3"
  },
  "language_info": {
   "codemirror_mode": {
    "name": "ipython",
    "version": 3
   },
   "file_extension": ".py",
   "mimetype": "text/x-python",
   "name": "python",
   "nbconvert_exporter": "python",
   "pygments_lexer": "ipython3",
   "version": "3.8.17"
  },
  "orig_nbformat": 4
 },
 "nbformat": 4,
 "nbformat_minor": 2
}
